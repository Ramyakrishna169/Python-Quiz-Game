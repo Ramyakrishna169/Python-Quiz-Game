{
 "cells": [
  {
   "cell_type": "code",
   "execution_count": 1,
   "id": "5b85ac99-4bae-4e23-b626-961fe4eb804b",
   "metadata": {},
   "outputs": [
    {
     "name": "stdout",
     "output_type": "stream",
     "text": [
      "Welcome to my computer quiz!\n"
     ]
    },
    {
     "name": "stdin",
     "output_type": "stream",
     "text": [
      "do you want to play? yes\n"
     ]
    },
    {
     "name": "stdout",
     "output_type": "stream",
     "text": [
      "okay! Let's play:)\n"
     ]
    },
    {
     "name": "stdin",
     "output_type": "stream",
     "text": [
      "what does CPU stand for? cetral proccessing unit\n"
     ]
    },
    {
     "name": "stdout",
     "output_type": "stream",
     "text": [
      "incorrect\n"
     ]
    },
    {
     "name": "stdin",
     "output_type": "stream",
     "text": [
      "what does GPU stand for? graphics proccessing unit\n"
     ]
    },
    {
     "name": "stdout",
     "output_type": "stream",
     "text": [
      "correct!\n"
     ]
    },
    {
     "name": "stdin",
     "output_type": "stream",
     "text": [
      "what does RAM stand for? random access memory\n"
     ]
    },
    {
     "name": "stdout",
     "output_type": "stream",
     "text": [
      "correct!\n"
     ]
    },
    {
     "name": "stdin",
     "output_type": "stream",
     "text": [
      "what does PSU stand for? power supply\n"
     ]
    },
    {
     "name": "stdout",
     "output_type": "stream",
     "text": [
      "correct!\n",
      "You got 3 questions correct!\n",
      "You got 75.0 % \n"
     ]
    }
   ],
   "source": [
    "print(\"Welcome to my computer quiz!\")\n",
    "\n",
    "playing = input(\"do you want to play?\")\n",
    "\n",
    "if playing.lower() != \"yes\":\n",
    "    quit()\n",
    "print(\"okay! Let's play:)\")  \n",
    "score = 0\n",
    "\n",
    "answer = input(\"what does CPU stand for?\")\n",
    "if answer.lower() == \"central processing unit\":\n",
    "    print(\"correct!\")\n",
    "    score += 1\n",
    "else:\n",
    "    print(\"incorrect\")\n",
    "\n",
    "answer = input(\"what does GPU stand for?\")\n",
    "if answer.lower() == \"graphics proccessing unit\":\n",
    "    print(\"correct!\")\n",
    "    score += 1\n",
    "else:\n",
    "    print(\"incorrect\")\n",
    "\n",
    "answer = input(\"what does RAM stand for?\")\n",
    "if answer.lower() == \"random access memory\":\n",
    "    print(\"correct!\")\n",
    "    score += 1\n",
    "else:\n",
    "    print(\"incorrect\")\n",
    "\n",
    "answer = input(\"what does PSU stand for?\")\n",
    "if answer.lower() == \"power supply\":\n",
    "    print(\"correct!\")\n",
    "    score += 1\n",
    "else:\n",
    "    print(\"incorrect\")\n",
    "\n",
    "print(\"You got \" + str(score) + \" questions correct!\")\n",
    "print(\"You got \" + str((score / 4) * 100) + \" % \")\n",
    "     "
   ]
  },
  {
   "cell_type": "code",
   "execution_count": null,
   "id": "1cb55758-e7da-4bc3-afcd-76d53c96169d",
   "metadata": {},
   "outputs": [],
   "source": []
  }
 ],
 "metadata": {
  "kernelspec": {
   "display_name": "Python 3 (ipykernel)",
   "language": "python",
   "name": "python3"
  },
  "language_info": {
   "codemirror_mode": {
    "name": "ipython",
    "version": 3
   },
   "file_extension": ".py",
   "mimetype": "text/x-python",
   "name": "python",
   "nbconvert_exporter": "python",
   "pygments_lexer": "ipython3",
   "version": "3.13.0"
  }
 },
 "nbformat": 4,
 "nbformat_minor": 5
}
